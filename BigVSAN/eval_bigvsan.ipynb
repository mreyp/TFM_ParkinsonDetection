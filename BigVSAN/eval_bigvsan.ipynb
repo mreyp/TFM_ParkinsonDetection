{
 "cells": [
  {
   "cell_type": "markdown",
   "metadata": {},
   "source": [
    "# Quality evaluation of generated data"
   ]
  },
  {
   "cell_type": "markdown",
   "metadata": {
    "jp-MarkdownHeadingCollapsed": true
   },
   "source": [
    "## \n",
    "\n",
    "- **M-STFT (↓)**\n",
    "    \n",
    "    El Multi-resolution STFT (M-STFT) es una técnica de análisis de señales que se utiliza para medir la distancia espectral de una señal de audio a través de múltiples resoluciones.\n",
    "    \n",
    "- **PESQ (↑)**\n",
    "    \n",
    "    PESQ compara una señal de habla de referencia con una señal de prueba que puede haber sido afectada por algún tipo de codificación, transmisión, compresión o procesamiento de señales. El objetivo es medir la calidad percibida de la señal de prueba en comparación con la señal original. PESQ intenta modelar las percepciones del oído y cerebro humanos analizando las diferencias entre las señales desde una perspectiva que refleje cómo los humanos percibirían las distorsiones.\n",
    "    \n",
    "    El resultado del PESQ es un valor único que típicamente varía entre -0.5 (mala calidad) y 4.5 (excelente calidad), donde valores más altos indican mejor calidad de voz percibida.\n",
    "    \n",
    "- **MCD (↓)**\n",
    "    \n",
    "    El MCD (Mel-Cepstral Distortion) es una medida utilizada para cuantificar la diferencia entre dos secuencias de vectores de cepstrum de Mel, que son representaciones de las características espectrales de sonidos. Se emplea comúnmente en el procesamiento del habla para evaluar la similitud entre secuencias de habla o para medir la calidad de algoritmos de síntesis de voz. \n",
    "    \n",
    "    1. **Extracción de características de Mel-Cepstrum:** Primero, se extraen los coeficientes cepstrales de Mel (MFCCs) de las señales de audio que se van a comparar. Esto implica dividir la señal en marcos cortos, aplicar la transformada de Fourier, obtener la respuesta en frecuencia en la escala de Mel, y finalmente aplicar la transformada de coseno discreta (DCT) para obtener los MFCCs.\n",
    "    2. **Alineación de secuencias con Dynamic Time Warping (DTW):** Antes de calcular la distorsión, es necesario alinear las secuencias de MFCCs de las dos señales de audio para encontrar el mejor camino de correspondencia entre ellas. DTW es un algoritmo que permite esta alineación, incluso si las secuencias tienen diferentes longitudes o si hay variaciones en la velocidad de pronunciación. DTW minimiza una función de costo que refleja la distancia local entre puntos de las dos secuencias a lo largo de un camino de alineación (**FastDTW)**\n",
    "    3. **Cálculo de la distorsión:** Una vez alineadas las secuencias, se calcula la distorsión mel-cepstral entre pares correspondientes de vectores de MFCCs a lo largo del camino de alineación encontrado por DTW. La distorsión entre dos vectores se calcula comúnmente usando la distancia euclidiana. La distorsión mel-cepstral (MCD) se define como la media de estas distorsiones a lo largo de todo el camino de alineación. La fórmula para calcular el MCD entre dos vectores de MFCCs, C1*C*1 y C2*C*2, es:\n",
    "    \n",
    "    $$\n",
    "    \n",
    "    \\text{MCD} = \\frac{10}{\\log(10)} \\sqrt{2} \\frac{\\sum_{i=1}^{N} \\sqrt{\\sum_{j=1}^{M} (C_{1ij} - C_{2ij})^2}}{N}\n",
    "    \n",
    "    $$\n",
    "    \n",
    "- **Periodicity (↓)**\n",
    "    \n",
    "    El error de periodicidad mide la discrepancia entre la periodicidad (regularidad en la repetición del patrón de onda sonora) real de una señal de habla y su estimación o reproducción por un sistema. En el contexto de la síntesis de voz o el análisis de señales, este error cuantifica cuán precisamente se captura o reproduce la frecuencia fundamental (F0) y la estructura armónica de sonidos sonoros, como las vocales y ciertas consonantes sonoras. Un menor error de periodicidad indica una mayor precisión en la reproducción de las características tonales y temporales del habla.\n",
    "    \n",
    "- **V/UV F1 (↑)**"
   ]
  },
  {
   "cell_type": "markdown",
   "metadata": {},
   "source": [
    "## 1. Generated with pretrained BigVGAN"
   ]
  },
  {
   "cell_type": "code",
   "execution_count": null,
   "metadata": {},
   "outputs": [],
   "source": [
    "!python './bigvsan_eval-main/evaluate.py' \\\n",
    " '../datos/control_files_short_24khz' '../datos/generados/pretrained_10ms_BigVSAN_generated_control' \\\n",
    "--output_file '../datos/evaluacion/eval_10ms_results_BigVSAN_pretrained_control'"
   ]
  },
  {
   "cell_type": "code",
   "execution_count": null,
   "metadata": {},
   "outputs": [],
   "source": [
    "!python './bigvsan_eval-main/evaluate.py' \\\n",
    " '../datos/pathological_files_short_24khz' '../datos/generados/pretrained_10ms_BigVSAN_generated_pathological' \\\n",
    "--output_file '../datos/evaluacion/eval_10ms_results_BigVSAN_pretrained_pathological'"
   ]
  },
  {
   "cell_type": "code",
   "execution_count": null,
   "metadata": {},
   "outputs": [],
   "source": [
    "!python './bigvsan_eval-main/evaluate.py' \\\n",
    " '../datos/control_files_short_24khz' '../datos/generados/pretrained_1ms_BigVSAN_generated_control' \\\n",
    "--output_file '../datos/evaluacion/eval_1ms_results_BigVSAN_pretrained_control'"
   ]
  },
  {
   "cell_type": "code",
   "execution_count": null,
   "metadata": {},
   "outputs": [],
   "source": [
    "!python './bigvsan_eval-main/evaluate.py' \\\n",
    " '../datos/pathological_files_short_24khz' '../datos/generados/pretrained_1ms_BigVSAN_generated_pathological' \\\n",
    "--output_file '../datos/evaluacion/eval_1ms_results_BigVSAN_pretrained_pathological'"
   ]
  },
  {
   "cell_type": "code",
   "execution_count": 2,
   "metadata": {},
   "outputs": [],
   "source": [
    "!python './bigvsan_eval-main/evaluate.py' \\\n",
    " '../datos/pathological_files_short_24khz' '../datos/generados/pretrained_40_1e6_BigVSAN_generated_pathological' \\\n",
    "--output_file '../datos/evaluacion/eval_40_1e6_results_BigVSAN_pretrained_pathological'"
   ]
  },
  {
   "cell_type": "code",
   "execution_count": null,
   "metadata": {
    "collapsed": true,
    "jupyter": {
     "outputs_hidden": true
    },
    "scrolled": true
   },
   "outputs": [],
   "source": [
    "!python './bigvsan_eval-main/evaluate.py' \\\n",
    " '../datos/control_files_short_24khz' '../datos/generados/pretrained_40_1e6_BigVSAN_generated_control' \\\n",
    "--output_file '../datos/evaluacion/eval_40_1e6_results_BigVSAN_pretrained_control'"
   ]
  },
  {
   "cell_type": "code",
   "execution_count": null,
   "metadata": {
    "scrolled": true
   },
   "outputs": [],
   "source": [
    "!python './bigvsan_eval-main/evaluate.py' \\\n",
    " '../datos/control_files_short_24khz' 'TFM_MartaRey/datos/generados/pretrained_seq_40_BigVSAN_generated_control' \\\n",
    "--output_file '../datos/evaluacion/eval_seq_40_results_BigVSAN_pretrained_control'"
   ]
  },
  {
   "cell_type": "code",
   "execution_count": null,
   "metadata": {
    "scrolled": true
   },
   "outputs": [],
   "source": [
    "!python './bigvsan_eval-main/evaluate.py' \\\n",
    " '../datos/pathological_files_short_24khz' 'TFM_MartaRey/datos/generados/pretrained_seq_40_BigVSAN_generated_pathological' \\\n",
    "--output_file '../datos/evaluacion/eval_seq_40_results_BigVSAN_pretrained_pathological'"
   ]
  }
 ],
 "metadata": {
  "kernelspec": {
   "display_name": "Python 3 (ipykernel)",
   "language": "python",
   "name": "python3"
  },
  "language_info": {
   "codemirror_mode": {
    "name": "ipython",
    "version": 3
   },
   "file_extension": ".py",
   "mimetype": "text/x-python",
   "name": "python",
   "nbconvert_exporter": "python",
   "pygments_lexer": "ipython3",
   "version": "3.11.5"
  }
 },
 "nbformat": 4,
 "nbformat_minor": 4
}

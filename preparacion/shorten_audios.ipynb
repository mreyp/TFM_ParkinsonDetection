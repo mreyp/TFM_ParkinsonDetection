{
 "cells": [
  {
   "cell_type": "code",
   "execution_count": 3,
   "id": "50d89bf8-fddb-41d3-aa08-30fb55ef3b9f",
   "metadata": {},
   "outputs": [
    {
     "ename": "ModuleNotFoundError",
     "evalue": "No module named 'librosa'",
     "output_type": "error",
     "traceback": [
      "\u001b[0;31m---------------------------------------------------------------------------\u001b[0m",
      "\u001b[0;31mModuleNotFoundError\u001b[0m                       Traceback (most recent call last)",
      "Cell \u001b[0;32mIn[3], line 10\u001b[0m\n\u001b[1;32m      8\u001b[0m \u001b[38;5;28;01mimport\u001b[39;00m \u001b[38;5;21;01mmatplotlib\u001b[39;00m\u001b[38;5;21;01m.\u001b[39;00m\u001b[38;5;21;01mpyplot\u001b[39;00m \u001b[38;5;28;01mas\u001b[39;00m \u001b[38;5;21;01mplt\u001b[39;00m\n\u001b[1;32m      9\u001b[0m \u001b[38;5;28;01mimport\u001b[39;00m \u001b[38;5;21;01mcsv\u001b[39;00m\n\u001b[0;32m---> 10\u001b[0m \u001b[38;5;28;01mimport\u001b[39;00m \u001b[38;5;21;01mlibrosa\u001b[39;00m\n\u001b[1;32m     11\u001b[0m \u001b[38;5;28;01mimport\u001b[39;00m \u001b[38;5;21;01msoundfile\u001b[39;00m \u001b[38;5;28;01mas\u001b[39;00m \u001b[38;5;21;01msf\u001b[39;00m\n",
      "\u001b[0;31mModuleNotFoundError\u001b[0m: No module named 'librosa'"
     ]
    }
   ],
   "source": [
    "import wave\n",
    "import numpy as np\n",
    "import shutil\n",
    "import sys, os, os.path\n",
    "from scipy.io import wavfile\n",
    "from scipy.io.wavfile import write\n",
    "import pandas as pd\n",
    "import matplotlib.pyplot as plt\n",
    "import csv\n",
    "import librosa\n",
    "import soundfile as sf"
   ]
  },
  {
   "cell_type": "markdown",
   "id": "2d055c38-936a-403b-b25a-347a8e092e85",
   "metadata": {},
   "source": [
    "## Functions to shorten audios"
   ]
  },
  {
   "cell_type": "code",
   "execution_count": 14,
   "id": "6a93369c-dd1c-4352-a85a-23715b16251d",
   "metadata": {},
   "outputs": [],
   "source": [
    "def get_wav_duration(file_path):\n",
    "    audio, sr = librosa.load(file_path, sr=None)\n",
    "    duration = librosa.get_duration(y=audio, sr=sr)\n",
    "    return duration, sr\n",
    "\n",
    "def shorten_wav(input_file, output_file, target_duration, sr):\n",
    "    audio, sr = librosa.load(input_file, sr=sr)\n",
    "    target_frames = int(target_duration * sr)\n",
    "    shortened_audio = audio[:target_frames]\n",
    "    sf.write(output_file, shortened_audio, sr)"
   ]
  },
  {
   "cell_type": "markdown",
   "id": "b95d20a6-76d9-44e5-813e-7a6b54e01fa4",
   "metadata": {},
   "source": [
    "## Upload files"
   ]
  },
  {
   "cell_type": "code",
   "execution_count": 15,
   "id": "84fbf567-5853-4c97-a327-d76093af5230",
   "metadata": {},
   "outputs": [],
   "source": [
    "# Routes\n",
    "control_folder_path = \"TFM_MartaRey/datos/Vowels/Control/A\"\n",
    "pathological_folder_path = \"TFM_MartaRey/datos/Vowels/Patologicas/A\"\n",
    "output_control24 = \"TFM_MartaRey/datos/control_files_short_24khz\"\n",
    "output_pathological24 = \"TFM_MartaRey/datos/pathological_files_short_24khz\"\n",
    "output_control44_1 = \"TFM_MartaRey/datos/control_files_short_44_1khz\"\n",
    "output_pathological44_1 = \"TFM_MartaRey/datos/pathological_files_short_44_1khz\"\n",
    "\n",
    "# Create folders and empty them if they already exist\n",
    "for folder in [output_control24, output_pathological24, output_control44_1, output_pathological44_1]:\n",
    "    if os.path.exists(folder):\n",
    "        shutil.rmtree(folder)\n",
    "    os.makedirs(folder)"
   ]
  },
  {
   "cell_type": "markdown",
   "id": "c6713240-f527-4299-b329-a96893d42d55",
   "metadata": {},
   "source": [
    "## Shorten both Control and Pathological audios to the same lenght"
   ]
  },
  {
   "cell_type": "code",
   "execution_count": 16,
   "id": "31ef917a-a27f-4f15-9104-95776d190a0a",
   "metadata": {},
   "outputs": [],
   "source": [
    "# VOCAL 'A' CONTROL & PARKINSON SUBJECTS\n",
    "   \n",
    "def truncate_float(float_number, decimal_places):\n",
    "    multiplier = 10 ** decimal_places\n",
    "    return int(float_number * multiplier) / multiplier\n",
    "# Find shortest duration \n",
    "shortest_duration = float('inf')\n",
    "\n",
    "for folder_path in [control_folder_path, pathological_folder_path]:\n",
    "    file_names = [file for file in os.listdir(folder_path) if file.endswith('.wav')]\n",
    "    for file_name in file_names:\n",
    "        file_path = os.path.join(folder_path, file_name)\n",
    "        duration = get_wav_duration(file_path)[0]\n",
    "        duration = truncate_float(duration, 2)\n",
    "        if duration < shortest_duration:\n",
    "            shortest_duration = duration\n",
    "\n",
    "# Shorten all files to that duration\n",
    "def shorten_wav_files_24(folder_path, output_folder, shortest_duration):\n",
    "    file_names = [file for file in os.listdir(folder_path) if file.endswith('.wav')]\n",
    "    for file_name in file_names:\n",
    "        input_file = os.path.join(folder_path, file_name)\n",
    "        output_file = os.path.join(output_folder, file_name.replace('.wav', '_shortened.wav'))\n",
    "        shorten_wav(input_file, output_file, shortest_duration, 24000)\n",
    "\n",
    "def shorten_wav_files_44_1(folder_path, output_folder, shortest_duration):\n",
    "    file_names = [file for file in os.listdir(folder_path) if file.endswith('.wav')]\n",
    "    for file_name in file_names:\n",
    "        input_file = os.path.join(folder_path, file_name)\n",
    "        output_file = os.path.join(output_folder, file_name.replace('.wav', '_shortened.wav'))\n",
    "        shorten_wav(input_file, output_file, shortest_duration, 44100)\n"
   ]
  },
  {
   "cell_type": "code",
   "execution_count": 17,
   "id": "2f0e264e",
   "metadata": {},
   "outputs": [
    {
     "name": "stdout",
     "output_type": "stream",
     "text": [
      "Process completed.\n"
     ]
    }
   ],
   "source": [
    "shorten_wav_files_24(control_folder_path, output_control24, shortest_duration)\n",
    "shorten_wav_files_24(pathological_folder_path, output_pathological24, shortest_duration)\n",
    "\n",
    "shorten_wav_files_44_1(control_folder_path, output_control44_1, shortest_duration)\n",
    "shorten_wav_files_44_1(pathological_folder_path, output_pathological44_1, shortest_duration)\n",
    "\n",
    "print(\"Process completed.\")"
   ]
  },
  {
   "cell_type": "markdown",
   "id": "ab35b8a2-113a-4c2d-b5e8-146b6c12d229",
   "metadata": {},
   "source": [
    "## Audio to CSV"
   ]
  },
  {
   "cell_type": "code",
   "execution_count": null,
   "id": "1795aa86",
   "metadata": {},
   "outputs": [],
   "source": [
    "def save_csv(audio_path, output_csv):\n",
    "    '''\n",
    "    Create a csv file from the audio file \n",
    "    audio_path: path to the audio file\n",
    "    output_csv: path to the output csv file\n",
    "    '''\n",
    "    # Create the output folder\n",
    "    # If the folder already exists, delete it and create a new one\n",
    "    if os.path.exists(output_csv):\n",
    "        shutil.rmtree(output_csv)\n",
    "    os.makedirs(output_csv, exist_ok=True)\n",
    "    \n",
    "    input_filenames = [file for file in os.listdir(audio_path) if file.endswith('.wav')]\n",
    "    for name in input_filenames:\n",
    "        if name[-3:] != 'wav':\n",
    "            print('WARNING!! Input File format should be *.wav')\n",
    "            sys.exit()\n",
    "\n",
    "        sr, data = wavfile.read(os.path.join(audio_path, name))\n",
    "        # Save in csv format\n",
    "        wavData = pd.DataFrame(data)\n",
    "        wavData.columns = ['M']\n",
    "        # Save in csv format\n",
    "        wavData.to_csv(os.path.join(output_csv, name[:-4] + \".csv\"), mode='w')\n"
   ]
  }
 ],
 "metadata": {
  "kernelspec": {
   "display_name": "Python 3 (ipykernel)",
   "language": "python",
   "name": "python3"
  },
  "language_info": {
   "codemirror_mode": {
    "name": "ipython",
    "version": 3
   },
   "file_extension": ".py",
   "mimetype": "text/x-python",
   "name": "python",
   "nbconvert_exporter": "python",
   "pygments_lexer": "ipython3",
   "version": "3.11.8"
  }
 },
 "nbformat": 4,
 "nbformat_minor": 5
}
